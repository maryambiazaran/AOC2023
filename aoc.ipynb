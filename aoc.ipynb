{
 "cells": [
  {
   "cell_type": "code",
   "execution_count": 1,
   "id": "d88295fa-29f7-4478-a8a5-7359c2d20411",
   "metadata": {},
   "outputs": [],
   "source": [
    "import re,math\n",
    "import numpy as np\n",
    "import pandas as pd\n",
    "from helpers import get_inputs"
   ]
  },
  {
   "cell_type": "code",
   "execution_count": 2,
   "id": "e602793f-8bf0-4f5e-9653-1aa7ca1b82a9",
   "metadata": {},
   "outputs": [
    {
     "name": "stdout",
     "output_type": "stream",
     "text": [
      "p1: 54953\n",
      "p2: 53868\n"
     ]
    }
   ],
   "source": [
    "# DAY 1\n",
    "\n",
    "nums = { \n",
    "    'one': 1,\n",
    "    'two': 2,\n",
    "    'three': 3,\n",
    "    'four': 4,\n",
    "    'five': 5,\n",
    "    'six': 6,\n",
    "    'seven': 7,\n",
    "    'eight': 8,\n",
    "    'nine': 9\n",
    "}\n",
    "\n",
    "def calib_value(pattern,s):\n",
    "    g = lambda x: int(nums.get(x,x))\n",
    "    x = list(map(re.findall(pattern,s).__getitem__,[0,-1]))\n",
    "    return g(x[0])*10+g(x[1])\n",
    "    \n",
    "day1 = get_inputs(1)\n",
    "\n",
    "#part1\n",
    "pattern1 = '\\d'\n",
    "d1p1 = sum([calib_value(pattern1,s) for s in day1])\n",
    "\n",
    "#part2\n",
    "pattern2 = '(?=(\\d|one|two|three|four|five|six|seven|eight|nine))'\n",
    "d1p2 = sum([calib_value(pattern2,s) for s in day1])\n",
    "\n",
    "print(f'p1: {d1p1}\\np2: {d1p2}')"
   ]
  },
  {
   "cell_type": "code",
   "execution_count": 4,
   "id": "5261a3ee-d9e2-4461-a236-2cfdbd39e716",
   "metadata": {},
   "outputs": [
    {
     "name": "stdout",
     "output_type": "stream",
     "text": [
      "p1: 2528\n",
      "p2: 67363\n"
     ]
    }
   ],
   "source": [
    "# DAY 2\n",
    "\n",
    "from functools import reduce\n",
    "\n",
    "t2 = '''Game 1: 3 blue, 4 red; 1 red, 2 green, 6 blue; 2 green\n",
    "Game 2: 1 blue, 2 green; 3 green, 4 blue, 1 red; 1 green, 1 blue\n",
    "Game 3: 8 green, 6 blue, 20 red; 5 blue, 4 red, 13 green; 5 green, 1 red\n",
    "Game 4: 1 green, 3 red, 6 blue; 3 green, 6 red; 3 green, 15 blue, 14 red\n",
    "Game 5: 6 red, 1 blue, 3 green; 2 blue, 1 red, 2 green'''.split('\\n')\n",
    "\n",
    "class CubeGame:\n",
    "\n",
    "    def __init__(self,data):\n",
    "        self.data = data\n",
    "        self.seq = self.draw_seq()\n",
    "        self.id = self.get_id()\n",
    "\n",
    "    def get_id(self):\n",
    "        return int(re.findall('Game (\\d+)',self.data)[0])\n",
    "\n",
    "    def draw_seq(self):\n",
    "        seq = []\n",
    "        for color in ['red','green','blue']:\n",
    "            seq.append([int(x) or 0 for x in re.findall(f'(\\d+) {color}',self.data)])\n",
    "        return seq\n",
    "    \n",
    "    def is_possible(self,pool):\n",
    "        # pool: tuple[int] for (red, green, blue)\n",
    "        for idx,d in enumerate(self.seq):\n",
    "            if pool[idx] < (max(d) if d else 0):\n",
    "                return 0\n",
    "        return 1\n",
    "    \n",
    "    @property\n",
    "    def min_pool(self):\n",
    "        return [max(x or [0]) for x in self.seq]\n",
    "\n",
    "pool = (12,13,14)\n",
    "\n",
    "d2p1 = 0\n",
    "d2p2 = 0\n",
    "\n",
    "for game in get_inputs(2):\n",
    "    g = CubeGame(game)\n",
    "    d2p1+= g.is_possible(pool)*g.id\n",
    "    d2p2+= reduce(lambda x,y: x*y , g.min_pool)\n",
    "\n",
    "print(f'p1: {d2p1}\\np2: {d2p2}') "
   ]
  },
  {
   "cell_type": "code",
   "execution_count": 116,
   "metadata": {},
   "outputs": [
    {
     "name": "stdout",
     "output_type": "stream",
     "text": [
      "p1: 551094\n",
      "p2: 80179647\n"
     ]
    }
   ],
   "source": [
    "# DAY 3\n",
    "t3 = '''467..114..\n",
    "...*......\n",
    "..35..633.\n",
    "......#...\n",
    "617*......\n",
    ".....+.58.\n",
    "..592.....\n",
    "......755.\n",
    "...$.*....\n",
    ".664.598..'''.split('\\n')\n",
    "\n",
    "class Engine:\n",
    "    def __init__(self,data):\n",
    "        self.data = data\n",
    "        self.numbers = self.get_address(pattern='(\\d+)')\n",
    "        self.stars = self.get_address(pattern='(\\*)')\n",
    "        self.part_numbers = []\n",
    "        self._get_part_numbers()\n",
    "\n",
    "    def get_address(self,pattern):\n",
    "        '''\n",
    "        Returns tuple of (row#,start_idx,end_idx)\n",
    "        '''\n",
    "        address = []\n",
    "        for idx,row in enumerate(self.data):\n",
    "            x = re.finditer(pattern,row)\n",
    "            for i in x:\n",
    "                address.append(tuple([idx,*i.span()]))\n",
    "        return address \n",
    "    \n",
    "    def _get_part_numbers(self):\n",
    "        for x in self.numbers:\n",
    "            neighbors = ''\n",
    "            n = int(self.data[x[0]][x[1]:x[2]])\n",
    "            neighbors += self.data[max(0,x[0]-1)][max(0,x[1]-1):x[2]+1]\n",
    "            neighbors += self.data[max(0,x[0])][max(0,x[1]-1):x[2]+1]\n",
    "            neighbors += self.data[max(0,min(x[0]+1,len(self.data[0])-1))][max(0,max(0,x[1]-1)):min(x[2]+1,len(self.data[0])-1)]\n",
    "            if  re.findall('[^0-9.]',neighbors):\n",
    "                self.part_numbers.append(n)\n",
    "\n",
    "    def gear_ratios(self):\n",
    "        r = []\n",
    "        for s in self.stars:\n",
    "            adj_parts = [int(self.data[x[0]][x[1]:x[2]]) for x in self.numbers if abs(x[0]-s[0])<=1 and x[1]-1<=s[1]<=x[2]]\n",
    "            if len(adj_parts)>1:\n",
    "                r.append (reduce(lambda x,y: x*y, adj_parts))\n",
    "        return r\n",
    "    \n",
    "e = Engine(get_inputs(3))\n",
    "print(f'p1: {sum(e.part_numbers)}\\np2: {sum(e.gear_ratios())}') "
   ]
  },
  {
   "cell_type": "code",
   "execution_count": null,
   "metadata": {},
   "outputs": [],
   "source": []
  }
 ],
 "metadata": {
  "kernelspec": {
   "display_name": "Python 3 (ipykernel)",
   "language": "python",
   "name": "python3"
  },
  "language_info": {
   "codemirror_mode": {
    "name": "ipython",
    "version": 3
   },
   "file_extension": ".py",
   "mimetype": "text/x-python",
   "name": "python",
   "nbconvert_exporter": "python",
   "pygments_lexer": "ipython3",
   "version": "3.11.4"
  }
 },
 "nbformat": 4,
 "nbformat_minor": 5
}
